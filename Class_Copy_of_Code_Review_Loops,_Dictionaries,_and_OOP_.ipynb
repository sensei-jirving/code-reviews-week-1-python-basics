{
  "nbformat": 4,
  "nbformat_minor": 0,
  "metadata": {
    "colab": {
      "name": "Class Copy of Code Review - Loops, Dictionaries, and OOP .ipynb",
      "provenance": [],
      "collapsed_sections": [],
      "toc_visible": true,
      "authorship_tag": "ABX9TyNKG/4RPeAIFFVVIv9lPACT",
      "include_colab_link": true
    },
    "kernelspec": {
      "name": "python3",
      "display_name": "Python 3"
    },
    "language_info": {
      "name": "python"
    }
  },
  "cells": [
    {
      "cell_type": "markdown",
      "metadata": {
        "id": "view-in-github",
        "colab_type": "text"
      },
      "source": [
        "<a href=\"https://colab.research.google.com/github/sensei-jirving/code-reviews-week-1-python-basics/blob/01-28-22-recording/Class_Copy_of_Code_Review_Loops%2C_Dictionaries%2C_and_OOP_.ipynb\" target=\"_parent\"><img src=\"https://colab.research.google.com/assets/colab-badge.svg\" alt=\"Open In Colab\"/></a>"
      ]
    },
    {
      "cell_type": "markdown",
      "source": [
        "# Code Review Activity: Python Basics - Loops and Dictionaries"
      ],
      "metadata": {
        "id": "uyFxfgEotLqL"
      }
    },
    {
      "cell_type": "markdown",
      "source": [
        "- 01/28/22 - Bonus Class\n",
        "- 01.24.22 Cohort"
      ],
      "metadata": {
        "id": "eLGSloCX-QY9"
      }
    },
    {
      "cell_type": "markdown",
      "source": [
        "- Reviewing some Python Basics from the Pre-Bootcamp work\n"
      ],
      "metadata": {
        "id": "ADjFUFFttP60"
      }
    },
    {
      "cell_type": "markdown",
      "source": [
        "## Concepts Reviewed/Practiced:\n"
      ],
      "metadata": {
        "id": "gsD0bXdptcLL"
      }
    },
    {
      "cell_type": "markdown",
      "source": [
        "\n",
        "- Creating Lists and Dictionaries\n",
        "- Conditionals (If/else)\n",
        "- Creating a Nested Dictionary\n",
        "- For loops\n",
        "    - Looping through dictionaries\n",
        "- Bonus: Object-Oriented-Programming"
      ],
      "metadata": {
        "id": "MAV1z4uB-VCG"
      }
    },
    {
      "cell_type": "markdown",
      "source": [
        "## Instructor/TA Data\n",
        "\n",
        "- Use the table below to reference the different favorite items for each instructor/TA.\n",
        "\n",
        "|Name|Favorite Color| Favorite Candy|Role |\n",
        "| --- | --- | --- | ---|\n",
        "|James|Purple|Jelly Bellies|Instructor |\n",
        "|Purvi|Red | Milky Way bars| TA|\n",
        "|Adam|Blue |Snickers | TA |\n",
        "|Josh|Green| Skittles | Instructor|\n",
        "\n",
        "\n",
        "<!-- \n",
        "{'James':{'color':'Purple',\n",
        "                      'candy':'Jelly Bellies'},\n",
        "              'Purvi':{'color':'Red',\n",
        "                       'candy':'Milky Way bars'} ,\n",
        "              'Adam':{'color':'Blue', \n",
        "                      'candy':'Snickers'},\n",
        "              'Josh':{'color':'Green', \n",
        "                       'candy': \"M&M's\"}} -->\n"
      ],
      "metadata": {
        "id": "0-2xU29EKT9w"
      }
    },
    {
      "cell_type": "markdown",
      "source": [
        "# Reviewing Datatypes"
      ],
      "metadata": {
        "id": "Uy0M97P1tp0q"
      }
    },
    {
      "cell_type": "markdown",
      "source": [
        "## Lists"
      ],
      "metadata": {
        "id": "WO8zeZPuuE6O"
      }
    },
    {
      "cell_type": "code",
      "source": [
        "## make a list of all everyones name from the table\n",
        "names = ['James','Purvi',\"Adam\",\"Josh\"]\n",
        "names"
      ],
      "metadata": {
        "id": "x78VxEo6tLdK",
        "colab": {
          "base_uri": "https://localhost:8080/"
        },
        "outputId": "b8a0ae41-77c1-4155-804b-75e9f72f75c0"
      },
      "execution_count": null,
      "outputs": [
        {
          "output_type": "execute_result",
          "data": {
            "text/plain": [
              "['James', 'Purvi', 'Adam', 'Josh']"
            ]
          },
          "metadata": {},
          "execution_count": 1
        }
      ]
    },
    {
      "cell_type": "markdown",
      "source": [
        "### Slicing / List Indexing"
      ],
      "metadata": {
        "id": "sDLH58lgIYwx"
      }
    },
    {
      "cell_type": "code",
      "source": [
        "## slice out the first name from names (what index # is first item?)\n",
        "names[0]"
      ],
      "metadata": {
        "id": "r15uQc2CIbiO",
        "colab": {
          "base_uri": "https://localhost:8080/",
          "height": 35
        },
        "outputId": "a72e3563-6877-4cc1-f4f5-5ec5102e2ef0"
      },
      "execution_count": null,
      "outputs": [
        {
          "output_type": "execute_result",
          "data": {
            "application/vnd.google.colaboratory.intrinsic+json": {
              "type": "string"
            },
            "text/plain": [
              "'James'"
            ]
          },
          "metadata": {},
          "execution_count": 2
        }
      ]
    },
    {
      "cell_type": "code",
      "source": [
        "## slice out the last name from names (what index # is last item?)\n",
        "names[-1]"
      ],
      "metadata": {
        "id": "I5GX6tajImPg",
        "colab": {
          "base_uri": "https://localhost:8080/",
          "height": 35
        },
        "outputId": "f8fb6abd-d0f5-4a03-f7ca-cba897d724b6"
      },
      "execution_count": null,
      "outputs": [
        {
          "output_type": "execute_result",
          "data": {
            "application/vnd.google.colaboratory.intrinsic+json": {
              "type": "string"
            },
            "text/plain": [
              "'Josh'"
            ]
          },
          "metadata": {},
          "execution_count": 3
        }
      ]
    },
    {
      "cell_type": "code",
      "source": [
        "## slice out the first TWO names from names\n",
        "names[:2]"
      ],
      "metadata": {
        "id": "cTJXh2-7IuXU",
        "colab": {
          "base_uri": "https://localhost:8080/"
        },
        "outputId": "ad6a797a-9439-4777-85f5-c90257ee7752"
      },
      "execution_count": null,
      "outputs": [
        {
          "output_type": "execute_result",
          "data": {
            "text/plain": [
              "['James', 'Purvi']"
            ]
          },
          "metadata": {},
          "execution_count": 6
        }
      ]
    },
    {
      "cell_type": "code",
      "source": [
        "## slice out the first TWO names from names\n",
        "names[-2:]"
      ],
      "metadata": {
        "colab": {
          "base_uri": "https://localhost:8080/"
        },
        "id": "flbj5TaWYZ24",
        "outputId": "e0a6d804-c4e6-4f0a-9b7a-20191237e25e"
      },
      "execution_count": null,
      "outputs": [
        {
          "output_type": "execute_result",
          "data": {
            "text/plain": [
              "['Adam', 'Josh']"
            ]
          },
          "metadata": {},
          "execution_count": 5
        }
      ]
    },
    {
      "cell_type": "code",
      "source": [
        "i = 2\n",
        "listA = names[:i]\n",
        "listB = names[i:]\n",
        "print(listA)\n",
        "print(listB)"
      ],
      "metadata": {
        "colab": {
          "base_uri": "https://localhost:8080/"
        },
        "id": "4BASqxwFYj5Z",
        "outputId": "dc495e6b-55f6-4f8a-e116-5650ef8591a9"
      },
      "execution_count": null,
      "outputs": [
        {
          "output_type": "stream",
          "name": "stdout",
          "text": [
            "['James', 'Purvi']\n",
            "['Adam', 'Josh']\n"
          ]
        }
      ]
    },
    {
      "cell_type": "markdown",
      "source": [
        "### Looping through Lists"
      ],
      "metadata": {
        "id": "r7ka9TX4M519"
      }
    },
    {
      "cell_type": "markdown",
      "source": [
        "- For each person, print \"Hello world, my name is \\<their name>\""
      ],
      "metadata": {
        "id": "HGayYd04PyoN"
      }
    },
    {
      "cell_type": "code",
      "execution_count": null,
      "metadata": {
        "id": "fy-jyBExtE_6",
        "colab": {
          "base_uri": "https://localhost:8080/"
        },
        "outputId": "605a1994-c11f-4555-f7fd-ad9c24a19861"
      },
      "outputs": [
        {
          "output_type": "stream",
          "name": "stdout",
          "text": [
            "Hello, world! My name is James.\n",
            "Hello, world! My name is Purvi.\n",
            "Hello, world! My name is Adam.\n",
            "Hello, world! My name is Josh.\n"
          ]
        }
      ],
      "source": [
        "## for each name, print Hello, my name is <name>\n",
        "for name in names:\n",
        "    print(f\"Hello, world! My name is {name}.\")\n",
        "    # print(f\"Hello, world! My name is \"+name+'.')\n"
      ]
    },
    {
      "cell_type": "markdown",
      "source": [
        "### Nested Lists (lists within lists)"
      ],
      "metadata": {
        "id": "sbT1tShrJmK-"
      }
    },
    {
      "cell_type": "markdown",
      "source": [
        "- Now, let's make a list of all attendee's names and favorite their favorite color.\n",
        "    - Each item in the list will also be a list that contains `['Name','Fav Color']`\n",
        "    - This will be a **nested list**"
      ],
      "metadata": {
        "id": "ulSRgndEQF1p"
      }
    },
    {
      "cell_type": "code",
      "source": [
        "## make a list of all attendee's names and favorite color \n",
        "## Each attendee will become a list of 2 things, name and color\n",
        "names = [ ['James','Purple' ], ['Purvi','Red'], [\"Adam\",'Blue'],[\"Josh\",'Green']]\n",
        "names"
      ],
      "metadata": {
        "id": "bKnd9Yr-xiFM",
        "colab": {
          "base_uri": "https://localhost:8080/"
        },
        "outputId": "e3001441-c5c8-4533-b236-2ced0a0f5fe8"
      },
      "execution_count": null,
      "outputs": [
        {
          "output_type": "execute_result",
          "data": {
            "text/plain": [
              "[['James', 'Purple'], ['Purvi', 'Red'], ['Adam', 'Blue'], ['Josh', 'Green']]"
            ]
          },
          "metadata": {},
          "execution_count": 17
        }
      ]
    },
    {
      "cell_type": "code",
      "source": [
        " ## make a list of all attendee's names and favorite color \n",
        "## Each attendee will become a list of 2 things, name and color\n",
        "names_tuple = [('James','Purple'), ('Purvi','Red'), (\"Adam\",'Blue'),(\"Josh\",'Green')]\n",
        "names_tuple"
      ],
      "metadata": {
        "colab": {
          "base_uri": "https://localhost:8080/"
        },
        "id": "xmSDHXw7aTf6",
        "outputId": "1a9823bf-e5e1-498b-ec52-c3b9981541d5"
      },
      "execution_count": null,
      "outputs": [
        {
          "output_type": "execute_result",
          "data": {
            "text/plain": [
              "[('James', 'Purple'), ('Purvi', 'Red'), ('Adam', 'Blue'), ('Josh', 'Green')]"
            ]
          },
          "metadata": {},
          "execution_count": 19
        }
      ]
    },
    {
      "cell_type": "code",
      "source": [
        ""
      ],
      "metadata": {
        "id": "6C5RBMGJaZ2-"
      },
      "execution_count": null,
      "outputs": []
    },
    {
      "cell_type": "code",
      "source": [
        "# What does the first item in our list look like now?\n",
        "names[0]"
      ],
      "metadata": {
        "id": "MXc6l9T9J5VA",
        "colab": {
          "base_uri": "https://localhost:8080/"
        },
        "outputId": "fae47cec-bb84-4632-df4c-62322c91fb01"
      },
      "execution_count": null,
      "outputs": [
        {
          "output_type": "execute_result",
          "data": {
            "text/plain": [
              "['James', 'Purple']"
            ]
          },
          "metadata": {},
          "execution_count": 20
        }
      ]
    },
    {
      "cell_type": "code",
      "source": [
        "names_tuple[0]"
      ],
      "metadata": {
        "colab": {
          "base_uri": "https://localhost:8080/"
        },
        "id": "MUPEZtOJafYw",
        "outputId": "5e5f4c58-c3d8-4bb7-92ad-4e9ad6199b8a"
      },
      "execution_count": null,
      "outputs": [
        {
          "output_type": "execute_result",
          "data": {
            "text/plain": [
              "('James', 'Purple')"
            ]
          },
          "metadata": {},
          "execution_count": 21
        }
      ]
    },
    {
      "cell_type": "code",
      "source": [
        "## What is the last person in the lists favorite color?\n",
        "names[-1][1]"
      ],
      "metadata": {
        "id": "1D-xIlTCO8YK",
        "colab": {
          "base_uri": "https://localhost:8080/",
          "height": 35
        },
        "outputId": "baa7504c-90cf-47dc-86fe-94f86f04ae58"
      },
      "execution_count": null,
      "outputs": [
        {
          "output_type": "execute_result",
          "data": {
            "application/vnd.google.colaboratory.intrinsic+json": {
              "type": "string"
            },
            "text/plain": [
              "'Green'"
            ]
          },
          "metadata": {},
          "execution_count": 24
        }
      ]
    },
    {
      "cell_type": "markdown",
      "source": [
        ">- Now loop through our nested list and print the following for each person:\n",
        "    - \"Hello, world! My name is \\<name> and my favorite color is \\<color>.\""
      ],
      "metadata": {
        "id": "qaOVcpLUQbKk"
      }
    },
    {
      "cell_type": "code",
      "source": [
        "\n",
        "names.append(['Yvon','Brown','Skittles'])\n",
        "names"
      ],
      "metadata": {
        "colab": {
          "base_uri": "https://localhost:8080/"
        },
        "id": "jLChk42YbW9F",
        "outputId": "8313bbb6-19aa-4b0e-ae47-a7b8c318923f"
      },
      "execution_count": null,
      "outputs": [
        {
          "output_type": "execute_result",
          "data": {
            "text/plain": [
              "[['James', 'Purple'],\n",
              " ['Purvi', 'Red'],\n",
              " ['Adam', 'Blue'],\n",
              " ['Josh', 'Green'],\n",
              " ['Yvon', 'Brown', 'Skittles']]"
            ]
          },
          "metadata": {},
          "execution_count": 27
        }
      ]
    },
    {
      "cell_type": "code",
      "source": [
        "## Loop through names list again,\n",
        "# but slice out the correct index for [name, color] for your string\n",
        "for name_color in names:\n",
        "    print(f\"Hello, world! My name is {name_color[0]} and my favorite color is {name_color[1]}.\")"
      ],
      "metadata": {
        "id": "fh49zGYTJ6Ld",
        "colab": {
          "base_uri": "https://localhost:8080/"
        },
        "outputId": "986ab942-d529-417f-f04b-df505683e62b"
      },
      "execution_count": null,
      "outputs": [
        {
          "output_type": "stream",
          "name": "stdout",
          "text": [
            "Hello, world! My name is James and my favorite color is Purple.\n",
            "Hello, world! My name is Purvi and my favorite color is Red.\n",
            "Hello, world! My name is Adam and my favorite color is Blue.\n",
            "Hello, world! My name is Josh and my favorite color is Green.\n",
            "Hello, world! My name is Yvon and my favorite color is Brown.\n"
          ]
        }
      ]
    },
    {
      "cell_type": "code",
      "source": [
        "for name, color in names:\n",
        "    print(f\"Hello, world! My name is {name} and my favorite color is {color}.\")"
      ],
      "metadata": {
        "colab": {
          "base_uri": "https://localhost:8080/",
          "height": 253
        },
        "id": "r7UDsomzbHGL",
        "outputId": "74f72095-dde4-444d-d539-cbb2bd4edfb8"
      },
      "execution_count": null,
      "outputs": [
        {
          "output_type": "stream",
          "name": "stdout",
          "text": [
            "Hello, world! My name is James and my favorite color is Purple.\n",
            "Hello, world! My name is Purvi and my favorite color is Red.\n",
            "Hello, world! My name is Adam and my favorite color is Blue.\n",
            "Hello, world! My name is Josh and my favorite color is Green.\n"
          ]
        },
        {
          "output_type": "error",
          "ename": "ValueError",
          "evalue": "ignored",
          "traceback": [
            "\u001b[0;31m---------------------------------------------------------------------------\u001b[0m",
            "\u001b[0;31mValueError\u001b[0m                                Traceback (most recent call last)",
            "\u001b[0;32m<ipython-input-29-e42b700b5a2e>\u001b[0m in \u001b[0;36m<module>\u001b[0;34m()\u001b[0m\n\u001b[0;32m----> 1\u001b[0;31m \u001b[0;32mfor\u001b[0m \u001b[0mname\u001b[0m\u001b[0;34m,\u001b[0m \u001b[0mcolor\u001b[0m \u001b[0;32min\u001b[0m \u001b[0mnames\u001b[0m\u001b[0;34m:\u001b[0m\u001b[0;34m\u001b[0m\u001b[0;34m\u001b[0m\u001b[0m\n\u001b[0m\u001b[1;32m      2\u001b[0m     \u001b[0mprint\u001b[0m\u001b[0;34m(\u001b[0m\u001b[0;34mf\"Hello, world! My name is {name} and my favorite color is {color}.\"\u001b[0m\u001b[0;34m)\u001b[0m\u001b[0;34m\u001b[0m\u001b[0;34m\u001b[0m\u001b[0m\n",
            "\u001b[0;31mValueError\u001b[0m: too many values to unpack (expected 2)"
          ]
        }
      ]
    },
    {
      "cell_type": "markdown",
      "source": [
        ">- ***But what if we had a massive list and we wanted to look up a specific person's favorite color?***\n",
        "    - Dictionaries to the rescue!"
      ],
      "metadata": {
        "id": "NrgYDJrjPcev"
      }
    },
    {
      "cell_type": "markdown",
      "source": [
        "## Dictionaries"
      ],
      "metadata": {
        "id": "lXc14bTyKMdb"
      }
    },
    {
      "cell_type": "markdown",
      "source": [
        "> Instead of a nested list, let's create a dictionary\n",
        "with the person's name as the key and their fav color as the value."
      ],
      "metadata": {
        "id": "NHmh78b-PqLk"
      }
    },
    {
      "cell_type": "code",
      "source": [
        "|fav_colors = {'James':'Purple',\n",
        "              'Purvi':\"Red\",\n",
        "              \"Adam\":'Blue',\n",
        "              'Josh':'Green',\n",
        "              'John':'Green'}\n",
        "fav_colors"
      ],
      "metadata": {
        "id": "YTKltTt7KJKt",
        "colab": {
          "base_uri": "https://localhost:8080/"
        },
        "outputId": "630cdb89-3ff9-4f22-9c25-04bf011e5e08"
      },
      "execution_count": null,
      "outputs": [
        {
          "output_type": "execute_result",
          "data": {
            "text/plain": [
              "{'Adam': 'Blue',\n",
              " 'James': 'Purple',\n",
              " 'John': 'Green',\n",
              " 'Josh': 'Green',\n",
              " 'Purvi': 'Red'}"
            ]
          },
          "metadata": {},
          "execution_count": 35
        }
      ]
    },
    {
      "cell_type": "code",
      "source": [
        "colors_name = {}\n",
        "for name, color in fav_colors.items():\n",
        "    colors_name[color] = name\n",
        "\n",
        "colors_name"
      ],
      "metadata": {
        "colab": {
          "base_uri": "https://localhost:8080/"
        },
        "id": "LmpLNXb3cWgF",
        "outputId": "880af42c-7d76-48f7-eba9-5703f81b30e7"
      },
      "execution_count": null,
      "outputs": [
        {
          "output_type": "execute_result",
          "data": {
            "text/plain": [
              "{'Blue': 'Adam', 'Green': 'John', 'Purple': 'James', 'Red': 'Purvi'}"
            ]
          },
          "metadata": {},
          "execution_count": 37
        }
      ]
    },
    {
      "cell_type": "code",
      "source": [
        "colors_names = {}\n",
        "for name, color in fav_colors.items():\n",
        "    color_list = colors_names.get(color,[])\n",
        "    color_list.append(name)\n",
        "\n",
        "    colors_names[color] = color_list\n",
        "colors_names"
      ],
      "metadata": {
        "colab": {
          "base_uri": "https://localhost:8080/"
        },
        "id": "4CWEEmxnc7kR",
        "outputId": "6146c0a0-d9da-437b-a2b8-4d01a2606c3a"
      },
      "execution_count": null,
      "outputs": [
        {
          "output_type": "execute_result",
          "data": {
            "text/plain": [
              "{'Blue': ['Adam'],\n",
              " 'Green': ['Josh', 'John'],\n",
              " 'Purple': ['James'],\n",
              " 'Red': ['Purvi']}"
            ]
          },
          "metadata": {},
          "execution_count": 44
        }
      ]
    },
    {
      "cell_type": "code",
      "source": [
        "fav_colors.get(\"Chastity\",[])"
      ],
      "metadata": {
        "colab": {
          "base_uri": "https://localhost:8080/"
        },
        "id": "7K8J2ZmBddWH",
        "outputId": "9090efc6-0258-4594-ec57-a3fafc45da13"
      },
      "execution_count": null,
      "outputs": [
        {
          "output_type": "execute_result",
          "data": {
            "text/plain": [
              "[]"
            ]
          },
          "metadata": {},
          "execution_count": 41
        }
      ]
    },
    {
      "cell_type": "code",
      "source": [
        "colors_name['Green']"
      ],
      "metadata": {
        "colab": {
          "base_uri": "https://localhost:8080/",
          "height": 35
        },
        "id": "73I1JhG_cpA7",
        "outputId": "a29d7a07-fc28-4bcd-f07a-af7d2e9b3f5d"
      },
      "execution_count": null,
      "outputs": [
        {
          "output_type": "execute_result",
          "data": {
            "application/vnd.google.colaboratory.intrinsic+json": {
              "type": "string"
            },
            "text/plain": [
              "'John'"
            ]
          },
          "metadata": {},
          "execution_count": 38
        }
      ]
    },
    {
      "cell_type": "code",
      "source": [
        "# what is James's favorite color?\n",
        "fav_colors['James']"
      ],
      "metadata": {
        "id": "1FKFXAG5KWMM",
        "colab": {
          "base_uri": "https://localhost:8080/",
          "height": 35
        },
        "outputId": "94da5b03-a883-4b98-8f58-b01be53b0cc6"
      },
      "execution_count": null,
      "outputs": [
        {
          "output_type": "execute_result",
          "data": {
            "application/vnd.google.colaboratory.intrinsic+json": {
              "type": "string"
            },
            "text/plain": [
              "'Purple'"
            ]
          },
          "metadata": {},
          "execution_count": 32
        }
      ]
    },
    {
      "cell_type": "markdown",
      "source": [
        ">- Now loop through our dictionary and print the same message as our nested list.:\n",
        "    - \"Hello, world! My name is \\<name> and my favorite color is \\<color>.\""
      ],
      "metadata": {
        "id": "zsvt6PZvQ4MJ"
      }
    },
    {
      "cell_type": "code",
      "source": [
        "## Loop through our fav_colors dict and print the above statement\n",
        "for name,color in fav_colors.items():\n",
        "    print(f\"Hello, world! My name is {name} and my favorite color is {color}.\")"
      ],
      "metadata": {
        "id": "q49-ooPyKah9",
        "colab": {
          "base_uri": "https://localhost:8080/"
        },
        "outputId": "0d7ae7f7-f4fd-4590-ee02-f76beed5d7fa"
      },
      "execution_count": null,
      "outputs": [
        {
          "output_type": "stream",
          "name": "stdout",
          "text": [
            "Hello, world! My name is James and my favorite color is Purple.\n",
            "Hello, world! My name is Purvi and my favorite color is Red.\n",
            "Hello, world! My name is Adam and my favorite color is Blue.\n",
            "Hello, world! My name is Josh and my favorite color is Green.\n",
            "Hello, world! My name is John and my favorite color is Green.\n"
          ]
        }
      ]
    },
    {
      "cell_type": "markdown",
      "source": [
        "### Nested Dictionaries"
      ],
      "metadata": {
        "id": "-zoNCw-FKr9N"
      }
    },
    {
      "cell_type": "markdown",
      "source": [
        ">- What if we wanted to keep track of **multiple pieces of information** for each person? \n",
        "    - We want to keep track of each persons:\n",
        "        - favorite color\n",
        "        - favorite candy\n",
        "\n",
        "\n",
        "\n",
        "- Instead of a nested list, **let's create a dictionary with each person's name** as the first/outer key. \n",
        "\n",
        "- For each person's, the value stored in the outer dictonary will no longer be a string: it will be another dictionary!!\n",
        "    - Each name will now have a dictionary as its value, and the dictionary will contain \"color\" and \"candy\"\n",
        "\n",
        "\n"
      ],
      "metadata": {
        "id": "0Nebt78JJN2r"
      }
    },
    {
      "cell_type": "markdown",
      "source": [
        "|Name|Favorite Color| Favorite Candy|Role |\n",
        "| --- | --- | --- | ---|\n",
        "|James|Purple|Jelly Bellies|Instructor |\n",
        "|Purvi|Red | Milky Way bars| TA|\n",
        "|Adam|Blue |Snickers | TA |\n",
        "|Josh|Green| Skittles | Instructor|"
      ],
      "metadata": {
        "id": "Zy9Fh9CQegjn"
      }
    },
    {
      "cell_type": "code",
      "source": [
        "## make a dictionary of fav_items with the names as the key and a dictionary of {color:red,candy:jelly bellies}\n",
        "fav_items = {\"James\": {'color':'Purple', \n",
        "                       'candy':'Jelly Bellies'},\n",
        "             \"Purvi\": {'color':'Red',\n",
        "                       'candy':'Milky Way bar'},\n",
        "             'Adam': {'color':'Blue',\n",
        "                      'candy':'Snickers'},\n",
        "             'Josh': {'color':'Green',\n",
        "                      'candy':'Skittles'}\n",
        "             }\n",
        "\n",
        "fav_items"
      ],
      "metadata": {
        "id": "7Kh2zRGxKhzu",
        "colab": {
          "base_uri": "https://localhost:8080/"
        },
        "outputId": "105b5eec-077b-42bc-d777-cec8de705ef1"
      },
      "execution_count": null,
      "outputs": [
        {
          "output_type": "execute_result",
          "data": {
            "text/plain": [
              "{'Adam': {'candy': 'Snickers', 'color': 'Blue'},\n",
              " 'James': {'candy': 'Jelly Bellies', 'color': 'Purple'},\n",
              " 'Josh': {'candy': 'Skittles', 'color': 'Green'},\n",
              " 'Purvi': {'candy': 'Milky Way bar', 'color': 'Red'}}"
            ]
          },
          "metadata": {},
          "execution_count": 53
        }
      ]
    },
    {
      "cell_type": "code",
      "source": [
        "## What does the value for James look like now?\n",
        "fav_items['James']"
      ],
      "metadata": {
        "id": "ik7DkzrmLPpI",
        "colab": {
          "base_uri": "https://localhost:8080/"
        },
        "outputId": "43e4b5f4-3c94-4a15-f771-d833b89318bf"
      },
      "execution_count": null,
      "outputs": [
        {
          "output_type": "execute_result",
          "data": {
            "text/plain": [
              "{'candy': 'Jelly Bellies', 'color': 'Purple'}"
            ]
          },
          "metadata": {},
          "execution_count": 54
        }
      ]
    },
    {
      "cell_type": "code",
      "source": [
        "fav_items['James'].keys()"
      ],
      "metadata": {
        "colab": {
          "base_uri": "https://localhost:8080/"
        },
        "id": "LdPoHE9-fX-V",
        "outputId": "91e189cc-1555-4731-e766-375146ebdd8b"
      },
      "execution_count": null,
      "outputs": [
        {
          "output_type": "execute_result",
          "data": {
            "text/plain": [
              "dict_keys(['color', 'candy'])"
            ]
          },
          "metadata": {},
          "execution_count": 55
        }
      ]
    },
    {
      "cell_type": "code",
      "source": [
        "## what is James's fav candy?\n",
        "fav_items['James']['candy']"
      ],
      "metadata": {
        "id": "axJX-d8ELVVa",
        "colab": {
          "base_uri": "https://localhost:8080/",
          "height": 35
        },
        "outputId": "157de3a3-26f3-45bc-dd32-5637c2157442"
      },
      "execution_count": null,
      "outputs": [
        {
          "output_type": "execute_result",
          "data": {
            "application/vnd.google.colaboratory.intrinsic+json": {
              "type": "string"
            },
            "text/plain": [
              "'Jelly Bellies'"
            ]
          },
          "metadata": {},
          "execution_count": 56
        }
      ]
    },
    {
      "cell_type": "code",
      "source": [
        "## what is Adam's fav color?\n",
        "fav_items['Adam']['color']"
      ],
      "metadata": {
        "id": "YG63TLFGLaRn",
        "colab": {
          "base_uri": "https://localhost:8080/",
          "height": 35
        },
        "outputId": "8e558b02-1d58-4782-eafa-7257c4bf1687"
      },
      "execution_count": null,
      "outputs": [
        {
          "output_type": "execute_result",
          "data": {
            "application/vnd.google.colaboratory.intrinsic+json": {
              "type": "string"
            },
            "text/plain": [
              "'Blue'"
            ]
          },
          "metadata": {},
          "execution_count": 57
        }
      ]
    },
    {
      "cell_type": "code",
      "source": [
        "## now loop through nested dictionary and print\n",
        "## my name is ___, my favorite color is ___, and my favorite candy is __\n",
        "for name, favs in fav_items.items():\n",
        "    print(f\"Hello, world! My name is {name}, my favorite color is {favs['color']}, my favorite candy is {favs['candy']}\")"
      ],
      "metadata": {
        "id": "luyBxAKqLd-5",
        "colab": {
          "base_uri": "https://localhost:8080/"
        },
        "outputId": "f517cc38-a2f2-4123-e751-6aabfe6a34f8"
      },
      "execution_count": null,
      "outputs": [
        {
          "output_type": "stream",
          "name": "stdout",
          "text": [
            "Hello, world! My name is James, my favorite color is Purple, my favorite candy is Jelly Bellies\n",
            "Hello, world! My name is Purvi, my favorite color is Red, my favorite candy is Milky Way bar\n",
            "Hello, world! My name is Adam, my favorite color is Blue, my favorite candy is Snickers\n",
            "Hello, world! My name is Josh, my favorite color is Green, my favorite candy is Skittles\n"
          ]
        }
      ]
    },
    {
      "cell_type": "code",
      "source": [
        "for name, favs in fav_items.items():\n",
        "    print(f'My name is {name}')\n",
        "    for fav_category, fav_detail in favs.items():\n",
        "        \n",
        "        print(f\"- My fav {fav_category} is {fav_detail}\")\n"
      ],
      "metadata": {
        "colab": {
          "base_uri": "https://localhost:8080/"
        },
        "id": "_2dpqgCJhWgG",
        "outputId": "91c5b232-7a6e-4e49-b62c-e0cafecff979"
      },
      "execution_count": null,
      "outputs": [
        {
          "output_type": "stream",
          "name": "stdout",
          "text": [
            "My name is James\n",
            "- My fav color is Purple\n",
            "- My fav candy is Jelly Bellies\n",
            "My name is Purvi\n",
            "- My fav color is Red\n",
            "- My fav candy is Milky Way bar\n",
            "My name is Adam\n",
            "- My fav color is Blue\n",
            "- My fav candy is Snickers\n",
            "My name is Josh\n",
            "- My fav color is Green\n",
            "- My fav candy is Skittles\n"
          ]
        }
      ]
    },
    {
      "cell_type": "markdown",
      "source": [
        "### Updating Dictionaries"
      ],
      "metadata": {
        "id": "s2jK-sO_MKtg"
      }
    },
    {
      "cell_type": "code",
      "source": [
        "## james decided he hates purple. His new fav color is Blue. Update the dictioanry to reflect this\n",
        "fav_items['James']['color'] = 'Blue'\n",
        "fav_items"
      ],
      "metadata": {
        "id": "EPPR9IKYL6Ao",
        "colab": {
          "base_uri": "https://localhost:8080/"
        },
        "outputId": "9b2da960-d599-4a8b-f8a7-b52bc5ff3571"
      },
      "execution_count": null,
      "outputs": [
        {
          "output_type": "execute_result",
          "data": {
            "text/plain": [
              "{'Adam': {'candy': 'Snickers', 'color': 'Blue'},\n",
              " 'James': {'candy': 'Jelly Bellies', 'color': 'Blue'},\n",
              " 'Josh': {'candy': 'Skittles', 'color': 'Green'},\n",
              " 'Purvi': {'candy': 'Milky Way bar', 'color': 'Red'}}"
            ]
          },
          "metadata": {},
          "execution_count": 62
        }
      ]
    },
    {
      "cell_type": "code",
      "source": [
        "## confirm that james' fav color is now Blue\n",
        "fav_items['James']['color']"
      ],
      "metadata": {
        "id": "ReM42pkzMQ1s",
        "colab": {
          "base_uri": "https://localhost:8080/",
          "height": 35
        },
        "outputId": "494cb458-827d-4d62-8908-4032a7187857"
      },
      "execution_count": null,
      "outputs": [
        {
          "output_type": "execute_result",
          "data": {
            "application/vnd.google.colaboratory.intrinsic+json": {
              "type": "string"
            },
            "text/plain": [
              "'Blue'"
            ]
          },
          "metadata": {},
          "execution_count": 63
        }
      ]
    },
    {
      "cell_type": "markdown",
      "source": [
        "### Loops with Conditionals (if/else)"
      ],
      "metadata": {
        "id": "THoMUNy9M_c3"
      }
    },
    {
      "cell_type": "markdown",
      "source": [
        ">- **Next, we want to print two different messages, depending on if the candy is chocolatey or fruity.**\n",
        "\n",
        "- **First, we will need a way to look up if a candy is chocolately or fruity** \n",
        "    - We already have two lists for us below.\n",
        "\n",
        "- **Second, we will loop trough our list of names and use if/else to print:**\n",
        "    - If their candy is chocolatey:\n",
        "        - \"My name is`<name>`  and I love chocolatey candy.\"\n",
        "    - If their candy is fruity:\n",
        "        - \"My name is `<name>` and I love fruity candy.\"\n",
        "\n",
        "    - If their candy is in neither list:\n",
        "        - \"My name is `<name>` and I like exotic candy.\""
      ],
      "metadata": {
        "id": "JL-_KraRL8G8"
      }
    },
    {
      "cell_type": "code",
      "source": [
        "## LEAVE THESE LISTS AS THEY ARE!\n",
        "chocolate_list = ['Snickers','Milky War bars',\"M&M's\",\"Hershey's Bar\"]\n",
        "fruity_list= ['Jelly Bellies','Skittles','Starbursts','Gummy Worms']"
      ],
      "metadata": {
        "id": "OO_tsuV8Ltzk"
      },
      "execution_count": null,
      "outputs": []
    },
    {
      "cell_type": "code",
      "source": [
        "## Loop through our dict of fav_items\n",
        "for name, favs in fav_items.items():\n",
        "    ## If the person's fav candy choclate:\n",
        "    if favs['candy'] in chocolate_list:\n",
        "        print(f\"My name is {name} and I love chocolatey candy.\")\n",
        "    ## if the person's fav candy is fruity\n",
        "    elif favs['candy'] in fruity_list:\n",
        "        print(f\"My name is {name} and I love fruity candy.\")\n",
        "\n",
        "\n",
        "    ## otherwise, the persons candy is exotic.\n",
        "    \n",
        "    else:\n",
        "        print(f\"My name is {name} and I like exotic candy.\")\n"
      ],
      "metadata": {
        "id": "IKSti-0SUiFK",
        "colab": {
          "base_uri": "https://localhost:8080/"
        },
        "outputId": "bb9100a4-63bd-4bf4-ca30-2a46f22816f2"
      },
      "execution_count": null,
      "outputs": [
        {
          "output_type": "stream",
          "name": "stdout",
          "text": [
            "My name is James and I love fruity candy.\n",
            "My name is Purvi and I like exotic candy.\n",
            "My name is Adam and I love chocolatey candy.\n",
            "My name is Josh and I love fruity candy.\n"
          ]
        }
      ]
    },
    {
      "cell_type": "markdown",
      "source": [
        "# BONUS: Object-Oriented-Programming "
      ],
      "metadata": {
        "id": "RB_Lxd89-X-E"
      }
    },
    {
      "cell_type": "markdown",
      "source": [
        "- Our `fav_items` dictionary above is a perfect candidate for creating a class. \n",
        "\n",
        "- Our `Person` class will:\n",
        "    - have a name\n",
        "    - have a fav color\n",
        "    - have a fav candy\n",
        "    - will have a method called `.hello()` that will print out: \"👋Hello, world! My name is ___, my favorite color is ____, and my favorite candy is ___"
      ],
      "metadata": {
        "id": "GtqA9LX9-dP2"
      }
    },
    {
      "cell_type": "code",
      "source": [
        ""
      ],
      "metadata": {
        "id": "7dQ8TXGMMabd"
      },
      "execution_count": null,
      "outputs": []
    },
    {
      "cell_type": "code",
      "source": [
        "# now, create a new list called people_list \n",
        "\n",
        "# loop through our fav_dict and create a new Person for each person in fav_dict\n",
        "\n",
        "\n",
        "    ## Maken sure to save the person to your people_list\n"
      ],
      "metadata": {
        "id": "RHSplaDP_AY1"
      },
      "execution_count": null,
      "outputs": []
    },
    {
      "cell_type": "code",
      "source": [
        "## take a look at People list to confirm there are 4 people\n"
      ],
      "metadata": {
        "id": "0N_5fa0XFCay"
      },
      "execution_count": null,
      "outputs": []
    },
    {
      "cell_type": "code",
      "source": [
        "## Loop through our list of people and run the .hello method\n",
        "\n"
      ],
      "metadata": {
        "id": "DuK3xL_LFbDW"
      },
      "execution_count": null,
      "outputs": []
    },
    {
      "cell_type": "code",
      "source": [
        ""
      ],
      "metadata": {
        "id": "RxlZkhUKFuEL"
      },
      "execution_count": null,
      "outputs": []
    }
  ]
}